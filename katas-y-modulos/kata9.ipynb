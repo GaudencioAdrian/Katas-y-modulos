{
 "cells": [
  {
   "cell_type": "markdown",
   "metadata": {},
   "source": [
    "***Ejercicio: Uso de funciones en Python***"
   ]
  },
  {
   "cell_type": "markdown",
   "metadata": {},
   "source": [
    "Función para leer 3 tanques de combustible y muestre el promedio"
   ]
  },
  {
   "cell_type": "code",
   "execution_count": 1,
   "metadata": {},
   "outputs": [],
   "source": [
    "def read_tanques(tanque1,tanque2,tanque3):\n",
    "    promedio = (tanque1+tanque2+tanque3)/3\n",
    "    \n",
    "    print(f'El promedio es: {promedio}')"
   ]
  },
  {
   "cell_type": "markdown",
   "metadata": {},
   "source": [
    "Llamamos a la función que genera el reporte"
   ]
  },
  {
   "cell_type": "code",
   "execution_count": 2,
   "metadata": {},
   "outputs": [
    {
     "name": "stdout",
     "output_type": "stream",
     "text": [
      "El promedio es: 21.333333333333332\n"
     ]
    }
   ],
   "source": [
    "read_tanques(21,21,22)"
   ]
  },
  {
   "cell_type": "markdown",
   "metadata": {},
   "source": [
    "Función promedio"
   ]
  },
  {
   "cell_type": "code",
   "execution_count": 8,
   "metadata": {},
   "outputs": [
    {
     "data": {
      "text/plain": [
       "82.0"
      ]
     },
     "execution_count": 8,
     "metadata": {},
     "output_type": "execute_result"
    }
   ],
   "source": [
    "def promedio(values):\n",
    "    total = sum(values)\n",
    "    number_of_items = len(values)\n",
    "    return total / number_of_items\n",
    "promedio([80, 85, 81])\n"
   ]
  },
  {
   "cell_type": "markdown",
   "metadata": {},
   "source": [
    "Actualiza la función"
   ]
  },
  {
   "cell_type": "code",
   "execution_count": 9,
   "metadata": {},
   "outputs": [
    {
     "name": "stdout",
     "output_type": "stream",
     "text": [
      "Fuel Report:\n",
      "    Total Average: 78.0%\n",
      "    Main tank: 88%\n",
      "    External tank: 76%\n",
      "    Hydrogen tank: 70% \n",
      "    \n"
     ]
    }
   ],
   "source": [
    "def read_tanques(tanque1,tanque2,tanque3):\n",
    "    return f\"\"\"Fuel Report:\n",
    "    Total Average: {promedio([tanque1, tanque2, tanque3])}%\n",
    "    Main tank: {tanque1}%\n",
    "    External tank: {tanque2}%\n",
    "    Hydrogen tank: {tanque3}% \n",
    "    \"\"\"\n",
    "print(read_tanques(88, 76, 70))"
   ]
  },
  {
   "cell_type": "markdown",
   "metadata": {},
   "source": [
    "Ejercicio 2: Trabajo con argumentos de palabra clave"
   ]
  },
  {
   "cell_type": "markdown",
   "metadata": {},
   "source": [
    "Función con un informe preciso de la misión."
   ]
  },
  {
   "cell_type": "code",
   "execution_count": 14,
   "metadata": {},
   "outputs": [
    {
     "name": "stdout",
     "output_type": "stream",
     "text": [
      "Hora de Prelanzamiento: 10 horas\n",
      "    Tiempo de vuelo: 2 horas \n",
      "    Destino: Luna\n",
      "    Tanque externo: 65 lts \n",
      "    Tanque interno: 100 lts\n"
     ]
    }
   ],
   "source": [
    "\n",
    "def informe(hora_prelanzamiento, tiempo_vuelo, destino, tanque_externo, tanque_interno):\n",
    "\n",
    "    return f\"\"\"Hora de Prelanzamiento: {hora_prelanzamiento} horas\n",
    "    Tiempo de vuelo: {tiempo_vuelo} horas \n",
    "    Destino: {destino}\n",
    "    Tanque externo: {tanque_externo} lts \n",
    "    Tanque interno: {tanque_interno} lts\"\"\"\n",
    "print(informe(10,2,'Luna',65,100))"
   ]
  },
  {
   "cell_type": "markdown",
   "metadata": {},
   "source": [
    "Escribe tu nueva función de reporte"
   ]
  },
  {
   "cell_type": "code",
   "execution_count": 20,
   "metadata": {},
   "outputs": [
    {
     "name": "stdout",
     "output_type": "stream",
     "text": [
      "Destino: Moon\n",
      "    Tiempo de vuelo: 76 minutos\n",
      "    Combustible Total: 500000 litros\n"
     ]
    }
   ],
   "source": [
    "def informe(destino, *minutes, **fuel_reservoirs):\n",
    "    return f\"\"\"Destino: {destino}\n",
    "    Tiempo de vuelo: {sum(minutes)} minutos\n",
    "    Combustible Total: {sum(fuel_reservoirs.values())} litros\"\"\" \n",
    "print(informe(\"Moon\", 10, 15, 51, main=300000, external=200000))"
   ]
  },
  {
   "cell_type": "markdown",
   "metadata": {},
   "source": [
    "Escribe tu nueva función"
   ]
  },
  {
   "cell_type": "code",
   "execution_count": 35,
   "metadata": {},
   "outputs": [
    {
     "name": "stdout",
     "output_type": "stream",
     "text": [
      "Destino: Moon\n",
      "    Tiempo de vuelo: 76 minutos\n",
      "    Combustible Total: 500000 litros \n",
      "        main tank --> 300000 gallons left \n",
      "        external tank --> 200000 gallons left\n"
     ]
    }
   ],
   "source": [
    "def informe(destino, *minutes, **fuel_reservoirs):\n",
    "    informe_principal =  f\"\"\"Destino: {destino}\n",
    "    Tiempo de vuelo: {sum(minutes)} minutos\n",
    "    Combustible Total: {sum(fuel_reservoirs.values())} litros\"\"\" \n",
    "\n",
    "    for tank_name, gallons in fuel_reservoirs.items():\n",
    "        informe_principal += f\"\"\" \n",
    "        {tank_name} tank --> {gallons} gallons left\"\"\"\n",
    "    return informe_principal\n",
    "\n",
    "print(informe(\"Moon\", 10, 15, 51, main=300000, external=200000))"
   ]
  }
 ],
 "metadata": {
  "interpreter": {
   "hash": "0c12d3e7fa4ed2bddc199f98c082a97fa0ca507495314a30e0858c389a2e799b"
  },
  "kernelspec": {
   "display_name": "Python 3.10.2 64-bit",
   "language": "python",
   "name": "python3"
  },
  "language_info": {
   "codemirror_mode": {
    "name": "ipython",
    "version": 3
   },
   "file_extension": ".py",
   "mimetype": "text/x-python",
   "name": "python",
   "nbconvert_exporter": "python",
   "pygments_lexer": "ipython3",
   "version": "3.10.2"
  },
  "orig_nbformat": 4
 },
 "nbformat": 4,
 "nbformat_minor": 2
}
