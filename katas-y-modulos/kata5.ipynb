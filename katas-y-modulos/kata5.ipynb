{
 "cells": [
  {
   "cell_type": "markdown",
   "metadata": {},
   "source": [
    "***Ejercicio 1***"
   ]
  },
  {
   "cell_type": "markdown",
   "metadata": {},
   "source": [
    "Creando las variables"
   ]
  },
  {
   "cell_type": "code",
   "execution_count": 20,
   "metadata": {},
   "outputs": [],
   "source": [
    "planeta1 = 149597870\n",
    "planeta2 = 778547200"
   ]
  },
  {
   "cell_type": "markdown",
   "metadata": {},
   "source": [
    "Calcular distancia entre planetas"
   ]
  },
  {
   "cell_type": "code",
   "execution_count": 24,
   "metadata": {},
   "outputs": [
    {
     "name": "stdout",
     "output_type": "stream",
     "text": [
      "La distancia en KM es:  628949330\n",
      "La distancia en Millas es:  390577534\n"
     ]
    }
   ],
   "source": [
    "distanciakm = (planeta1 - planeta2)\n",
    "print('La distancia en KM es: ', abs(distanciakm))\n",
    "distanciaml = round(distanciakm * 0.621)\n",
    "print('La distancia en Millas es: ',abs(distanciaml))\n"
   ]
  },
  {
   "cell_type": "markdown",
   "metadata": {},
   "source": [
    "***EJERCICIO 2***"
   ]
  },
  {
   "cell_type": "markdown",
   "metadata": {},
   "source": [
    "Creando las entradas de usuario"
   ]
  },
  {
   "cell_type": "code",
   "execution_count": 17,
   "metadata": {},
   "outputs": [],
   "source": [
    "planeta1 = input('Distancia del sol hacia el primer planeta: ')\n",
    "planeta2 = input('Distancia del sol hacia el segundo planeta: ')\n"
   ]
  },
  {
   "cell_type": "markdown",
   "metadata": {},
   "source": [
    "Covertir cadenas"
   ]
  },
  {
   "cell_type": "code",
   "execution_count": 18,
   "metadata": {},
   "outputs": [],
   "source": [
    "planeta1 = int(planeta1)\n",
    "planeta2 = int(planeta2)"
   ]
  },
  {
   "cell_type": "markdown",
   "metadata": {},
   "source": [
    "Calculo y coversion a valor absoluto"
   ]
  },
  {
   "cell_type": "code",
   "execution_count": 19,
   "metadata": {},
   "outputs": [
    {
     "name": "stdout",
     "output_type": "stream",
     "text": [
      "La distancia es:  500\n",
      "La distancia en millas es:  310.5\n"
     ]
    }
   ],
   "source": [
    "distanciakm = (planeta1 - planeta2)\n",
    "print('La distancia en KM es:: ',distanciakm)\n",
    "distanciaml = (distanciakm * 0.621)\n",
    "print('La distancia en Millas es: ', abs(distanciaml))"
   ]
  }
 ],
 "metadata": {
  "interpreter": {
   "hash": "0c12d3e7fa4ed2bddc199f98c082a97fa0ca507495314a30e0858c389a2e799b"
  },
  "kernelspec": {
   "display_name": "Python 3.10.2 64-bit",
   "language": "python",
   "name": "python3"
  },
  "language_info": {
   "codemirror_mode": {
    "name": "ipython",
    "version": 3
   },
   "file_extension": ".py",
   "mimetype": "text/x-python",
   "name": "python",
   "nbconvert_exporter": "python",
   "pygments_lexer": "ipython3",
   "version": "3.10.2"
  },
  "orig_nbformat": 4
 },
 "nbformat": 4,
 "nbformat_minor": 2
}
